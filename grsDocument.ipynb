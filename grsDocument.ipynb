{
 "cells": [
  {
   "cell_type": "markdown",
   "metadata": {},
   "source": [
    "# Week 1\n",
    "#### Quick links and Guides\n",
    "\n",
    "[Gromacs](http://www.gromacs.org/)\n",
    "\n",
    "[Lysozyme Tutorial](http://www.mdtutorials.com/gmx/lysozyme/index.html)\n",
    "\n",
    "[VMD](https://www.ks.uiuc.edu/Research/vmd/)\n",
    "\n",
    "In the first week of the research, we started out by looking at some tools that we plan on using in the future. The first two tools linked above are GROMACS and VMD. Gromacs is a tool that helps perform molecular dynamics by calculating/simulating the Newtonian equations of motion. Since these tools are not for basic use, we had to do some research on how the tools are used and how they can help us with our research. Our first time working with the tools was through the Lysozyme protein tutorial. This tutorial gives most of the basics on using GROMACS and guides you to seeing how the results are layed out through GROMACS. From there on, we started to look at VMD, which is a tool that helps you simulate and visulaize the protein/molecules that you're working on. With this tool, in combination with GROMACS, you're able to visualize and see what/how the proteins/molecules interact in a very short period of time. Since the calculations being done are extensive and are done on thousands, even millions, of atoms, the time alotted to which we can simulate at the moment is very short. With these simulations that could be from 5-15 seconds, we can view how proteins act within their given environment.\n",
    "\n",
    "\n",
    "\n",
    "\n",
    "# Week 2\n",
    "#### Quick links and Guides\n",
    "\n",
    "[APBS](https://apbs-pdb2pqr.readthedocs.io/en/latest/apbs/index.html)\n",
    "\n",
    "[PDB2PQR](https://apbs-pdb2pqr.readthedocs.io/en/latest/support.html)\n",
    "\n",
    "[LaTeX and Markdown Intro](https://s-stem.slack.com/files/UCN4UN78Q/FJFH3EGGH/latex_and_markdown_intro.ipynb)\n",
    "\n",
    "[Matplotlib Intro](https://s-stem.slack.com/files/UCN4UN78Q/FJAET4SFL/matplotlib_intro.ipynb)\n",
    "\n",
    "[Python Tutorial](https://s-stem.slack.com/files/UCN4UN78Q/FJG0KUHS8/python-tutorial.ipynb)\n",
    "\n",
    "[Markdown Tutorial](https://www.markdowntutorial.com/)\n",
    "\n",
    "[Github Intro](https://s-stem.slack.com/files/UCN4UN78Q/FJAE83F51/git_intro.ipynb)\n",
    "\n",
    "In the beginning of week two, we started out by having our weekly meeting with the rest of the research groups. We were introduced to a new way of sharing our work, github. Through github, we have a way of sharing our work while not having to be beside each other at all times. We also were introduced to a new way of documentation through Markdown. We use this documentation style to show our work that we have done in our research and to also use as a way of keeping notes in our research. It's a great way of keeping track of where you're at in the research and could lead you to where you can go from there on."
   ]
  }
 ],
 "metadata": {
  "kernelspec": {
   "display_name": "Python 3",
   "language": "python",
   "name": "python3"
  },
  "language_info": {
   "codemirror_mode": {
    "name": "ipython",
    "version": 3
   },
   "file_extension": ".py",
   "mimetype": "text/x-python",
   "name": "python",
   "nbconvert_exporter": "python",
   "pygments_lexer": "ipython3",
   "version": "3.6.7"
  }
 },
 "nbformat": 4,
 "nbformat_minor": 2
}
